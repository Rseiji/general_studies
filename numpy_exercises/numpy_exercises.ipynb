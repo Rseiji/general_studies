{
 "cells": [
  {
   "cell_type": "markdown",
   "id": "7e21051e",
   "metadata": {},
   "source": [
    "# Numpy exercises for training\n",
    "\n",
    "Source: [link](https://www.machinelearningplus.com/python/101-numpy-exercises-python/)"
   ]
  },
  {
   "cell_type": "markdown",
   "id": "5b3ebc8f",
   "metadata": {},
   "source": [
    "**1. Import numpy as np and see the version**"
   ]
  },
  {
   "cell_type": "code",
   "execution_count": 3,
   "id": "5c0f7d6b",
   "metadata": {},
   "outputs": [
    {
     "data": {
      "text/plain": [
       "'1.19.1'"
      ]
     },
     "execution_count": 3,
     "metadata": {},
     "output_type": "execute_result"
    }
   ],
   "source": [
    "import numpy as np\n",
    "\n",
    "np.version.version"
   ]
  },
  {
   "cell_type": "markdown",
   "id": "a4f74157",
   "metadata": {},
   "source": [
    "**2. How to create a 1D array?**"
   ]
  },
  {
   "cell_type": "code",
   "execution_count": 6,
   "id": "3193342c",
   "metadata": {},
   "outputs": [
    {
     "data": {
      "text/plain": [
       "array([1, 3, 5, 7, 9])"
      ]
     },
     "execution_count": 6,
     "metadata": {},
     "output_type": "execute_result"
    }
   ],
   "source": [
    "my_first_array = np.array(np.arange(1,10,2))\n",
    "my_first_array"
   ]
  },
  {
   "cell_type": "markdown",
   "id": "b15255fa",
   "metadata": {},
   "source": [
    "**3. How to create a boolean array?**"
   ]
  },
  {
   "cell_type": "code",
   "execution_count": 10,
   "id": "188095bb",
   "metadata": {},
   "outputs": [
    {
     "data": {
      "text/plain": [
       "array([ True, False,  True])"
      ]
     },
     "execution_count": 10,
     "metadata": {},
     "output_type": "execute_result"
    }
   ],
   "source": [
    "boolean_array_v1 = np.array([True, False, True])\n",
    "boolean_array_v1"
   ]
  },
  {
   "cell_type": "code",
   "execution_count": 12,
   "id": "200d4a56",
   "metadata": {},
   "outputs": [
    {
     "data": {
      "text/plain": [
       "array([ True,  True, False, False,  True, False])"
      ]
     },
     "execution_count": 12,
     "metadata": {},
     "output_type": "execute_result"
    }
   ],
   "source": [
    "boolean_array_v2 = np.array(['a', ', ', None, False, True, 0], dtype=bool)\n",
    "boolean_array_v2"
   ]
  },
  {
   "cell_type": "markdown",
   "id": "c540cd50",
   "metadata": {},
   "source": [
    "**4. How to extract items that satisfy a given condition from 1D array?**\n",
    "\n",
    "Extract all odd numbers from `arr`"
   ]
  },
  {
   "cell_type": "code",
   "execution_count": 13,
   "id": "bfa9c931",
   "metadata": {},
   "outputs": [],
   "source": [
    "arr = np.array([0, 1, 2, 3, 4, 5, 6, 7, 8, 9])"
   ]
  },
  {
   "cell_type": "code",
   "execution_count": 21,
   "id": "e8e75dec",
   "metadata": {},
   "outputs": [
    {
     "data": {
      "text/plain": [
       "array([1, 3, 5, 7, 9])"
      ]
     },
     "execution_count": 21,
     "metadata": {},
     "output_type": "execute_result"
    }
   ],
   "source": [
    "arr[arr % 2 == 1]"
   ]
  },
  {
   "cell_type": "markdown",
   "id": "b7832a61",
   "metadata": {},
   "source": [
    "**5. How to replace items that satisfy a condition with another value in numpy array?**\n",
    "\n",
    "Replace all odd numbers in `arr` with -1"
   ]
  },
  {
   "cell_type": "code",
   "execution_count": 22,
   "id": "1b143386",
   "metadata": {},
   "outputs": [],
   "source": [
    "arr = np.array([0, 1, 2, 3, 4, 5, 6, 7, 8, 9])"
   ]
  },
  {
   "cell_type": "code",
   "execution_count": 23,
   "id": "20e3062d",
   "metadata": {},
   "outputs": [],
   "source": [
    "arr[arr % 2 == 1] = -1"
   ]
  },
  {
   "cell_type": "code",
   "execution_count": 24,
   "id": "70298100",
   "metadata": {},
   "outputs": [
    {
     "data": {
      "text/plain": [
       "array([ 0, -1,  2, -1,  4, -1,  6, -1,  8, -1])"
      ]
     },
     "execution_count": 24,
     "metadata": {},
     "output_type": "execute_result"
    }
   ],
   "source": [
    "arr"
   ]
  },
  {
   "cell_type": "markdown",
   "id": "5888f6f5",
   "metadata": {},
   "source": [
    "**6. How to replace items that satisfy a condition without affecting the original array?**\n",
    "\n",
    "Replace all odd numbers in `arr` with -1 without changing `arr`"
   ]
  },
  {
   "cell_type": "code",
   "execution_count": 33,
   "id": "7321c8f3",
   "metadata": {},
   "outputs": [
    {
     "data": {
      "text/plain": [
       "array([ 0, -1,  2, -1,  4, -1,  6, -1,  8, -1])"
      ]
     },
     "execution_count": 33,
     "metadata": {},
     "output_type": "execute_result"
    }
   ],
   "source": [
    "arr = np.arange(10)\n",
    "arr2 = np.where(arr % 2 == 1, -1, arr)\n",
    "arr2"
   ]
  },
  {
   "cell_type": "markdown",
   "id": "e4c5f2e1",
   "metadata": {},
   "source": [
    "**7. How to reshape an array?**\n",
    "\n",
    "\n",
    "Obs: Then, in a `numpy` array, the entire array is inside a `[]`, having as elements other `[]`'s as rows. Then, each dimension is one `[]`"
   ]
  },
  {
   "cell_type": "code",
   "execution_count": 34,
   "id": "061478c0",
   "metadata": {},
   "outputs": [],
   "source": [
    "arr = np.arange(10)"
   ]
  },
  {
   "cell_type": "code",
   "execution_count": 35,
   "id": "3b35472b",
   "metadata": {},
   "outputs": [
    {
     "data": {
      "text/plain": [
       "array([[0, 1, 2, 3, 4],\n",
       "       [5, 6, 7, 8, 9]])"
      ]
     },
     "execution_count": 35,
     "metadata": {},
     "output_type": "execute_result"
    }
   ],
   "source": [
    "arr.reshape(2, 5)"
   ]
  },
  {
   "cell_type": "code",
   "execution_count": 41,
   "id": "88d94e91",
   "metadata": {},
   "outputs": [
    {
     "data": {
      "text/plain": [
       "array([[0, 1, 2, 3, 4, 5, 6, 7, 8, 9]])"
      ]
     },
     "execution_count": 41,
     "metadata": {},
     "output_type": "execute_result"
    }
   ],
   "source": [
    "arr.reshape(1, 10)"
   ]
  },
  {
   "cell_type": "code",
   "execution_count": 42,
   "id": "b29b9713",
   "metadata": {},
   "outputs": [
    {
     "data": {
      "text/plain": [
       "array([[0],\n",
       "       [1],\n",
       "       [2],\n",
       "       [3],\n",
       "       [4],\n",
       "       [5],\n",
       "       [6],\n",
       "       [7],\n",
       "       [8],\n",
       "       [9]])"
      ]
     },
     "execution_count": 42,
     "metadata": {},
     "output_type": "execute_result"
    }
   ],
   "source": [
    "arr.reshape(10, 1)"
   ]
  },
  {
   "cell_type": "markdown",
   "id": "460f3992",
   "metadata": {},
   "source": [
    "**8. How to stack two arrays vertically?**\n",
    "\n",
    "Obs\n",
    "* Concatenate = arrange the two arrays in order to make a bigger one\n",
    "* Stack = literally stack the two arrays. If needed, creates a new dimension in order to do that\n",
    "    * Ex:\n",
    "    ```python\n",
    "    >> a = np.arange(5)\n",
    "    >> b = np.arange(5)\n",
    "    >> a_r = a.reshape(1, -1)\n",
    "    >> b_r = b.reshape(1, -1)\n",
    "    >> np.hstack((a,b)).shape\n",
    "    (10,)\n",
    "    >> np.stack((a_r, b_r), axis=0).shape\n",
    "    (2,1,5)\n",
    "    >> np.stack((a_r, b_r), axis=1).shape\n",
    "    (1,2,5)\n",
    "    ```"
   ]
  },
  {
   "cell_type": "code",
   "execution_count": 149,
   "id": "a681aa18",
   "metadata": {},
   "outputs": [],
   "source": [
    "a = np.arange(10).reshape(2, -1)\n",
    "b = np.repeat(1,10).reshape(2, -1)"
   ]
  },
  {
   "cell_type": "code",
   "execution_count": 154,
   "id": "a0cccfaf",
   "metadata": {},
   "outputs": [
    {
     "data": {
      "text/plain": [
       "array([[0, 1, 2, 3, 4],\n",
       "       [5, 6, 7, 8, 9],\n",
       "       [1, 1, 1, 1, 1],\n",
       "       [1, 1, 1, 1, 1]])"
      ]
     },
     "execution_count": 154,
     "metadata": {},
     "output_type": "execute_result"
    }
   ],
   "source": [
    "np.concatenate((a,b), axis=0)"
   ]
  },
  {
   "cell_type": "markdown",
   "id": "f3dcf1cd",
   "metadata": {},
   "source": [
    "**9. How to stack two arrays horizontally?**"
   ]
  },
  {
   "cell_type": "code",
   "execution_count": 155,
   "id": "d130f2dc",
   "metadata": {},
   "outputs": [],
   "source": [
    "a = np.arange(10).reshape(2,-1)\n",
    "b = np.repeat(1, 10).reshape(2,-1)"
   ]
  },
  {
   "cell_type": "code",
   "execution_count": 158,
   "id": "60da0235",
   "metadata": {},
   "outputs": [
    {
     "data": {
      "text/plain": [
       "array([[0, 1, 2, 3, 4, 1, 1, 1, 1, 1],\n",
       "       [5, 6, 7, 8, 9, 1, 1, 1, 1, 1]])"
      ]
     },
     "execution_count": 158,
     "metadata": {},
     "output_type": "execute_result"
    }
   ],
   "source": [
    "np.hstack((a,b))"
   ]
  },
  {
   "cell_type": "markdown",
   "id": "b6a98c33",
   "metadata": {},
   "source": [
    "**10. How to generate custom sequences in numpy without hardcoding?**"
   ]
  },
  {
   "cell_type": "code",
   "execution_count": 159,
   "id": "4f9147a8",
   "metadata": {},
   "outputs": [],
   "source": [
    "a = np.array([1,2,3])"
   ]
  },
  {
   "cell_type": "code",
   "execution_count": 189,
   "id": "30dd596d",
   "metadata": {},
   "outputs": [
    {
     "data": {
      "text/plain": [
       "array([1, 1, 1, 2, 2, 2, 3, 3, 3, 1, 2, 3, 1, 2, 3, 1, 2, 3])"
      ]
     },
     "execution_count": 189,
     "metadata": {},
     "output_type": "execute_result"
    }
   ],
   "source": [
    "np.r_[np.concatenate([np.repeat(i, 3) for i in range(1,4)]), np.tile(np.arange(1,4), 3)]"
   ]
  }
 ],
 "metadata": {
  "kernelspec": {
   "display_name": "Python 3",
   "language": "python",
   "name": "python3"
  },
  "language_info": {
   "codemirror_mode": {
    "name": "ipython",
    "version": 3
   },
   "file_extension": ".py",
   "mimetype": "text/x-python",
   "name": "python",
   "nbconvert_exporter": "python",
   "pygments_lexer": "ipython3",
   "version": "3.8.10"
  }
 },
 "nbformat": 4,
 "nbformat_minor": 5
}
