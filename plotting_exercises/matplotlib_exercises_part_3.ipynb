{
 "cells": [
  {
   "cell_type": "code",
   "execution_count": null,
   "id": "b99a291a",
   "metadata": {},
   "outputs": [],
   "source": [
    "import pandas as pd\n",
    "import matplotlib as mpl\n",
    "import matplotlib.pyplot as plt\n",
    "import seaborn as sns"
   ]
  },
  {
   "cell_type": "markdown",
   "id": "97314543",
   "metadata": {},
   "source": [
    "# My Exercise list\n",
    "\n",
    "Questions I asked to myself. Some of them were already contemplated in the previous exercises list, so are ~~traced~~\n",
    "\n",
    "\n",
    "~~1. How to plot any visualization~~\n",
    "\n",
    "~~2. How to set axis labels, titles and legend~~\n",
    "\n",
    "~~3. How to set background style and grids~~\n",
    "\n",
    "~~4. How to personalize plot lines width, color, line, etc~~\n",
    "\n",
    "~~5. How to share axis in in a subplot~~\n",
    "    * sharex, sharey\n",
    "\n",
    "\n",
    "6. How to use xlim and ylim\n",
    "\n",
    "\n",
    "~~7. How to save figures~~\n",
    "\n",
    "\n",
    "8. How to combine matplotlib with seaborn, pandas, plotly or bokeh\n",
    "\n",
    "\n",
    "9. How to use two y-axis (left and right) in the same plot\n",
    "    * twix\n",
    "\n",
    "\n",
    "~~10. How to stack bar plots~~\n",
    "\n",
    "\n",
    "11. How to control ticks labels properly\n",
    "\n",
    "\n",
    "12. Dealing with time series: when x axis is timestamp. What if x axis have so many ticks?\n",
    "\n",
    "\n",
    "13. 3d visualizations"
   ]
  }
 ],
 "metadata": {
  "kernelspec": {
   "display_name": "Python 3",
   "language": "python",
   "name": "python3"
  },
  "language_info": {
   "codemirror_mode": {
    "name": "ipython",
    "version": 3
   },
   "file_extension": ".py",
   "mimetype": "text/x-python",
   "name": "python",
   "nbconvert_exporter": "python",
   "pygments_lexer": "ipython3",
   "version": "3.8.10"
  }
 },
 "nbformat": 4,
 "nbformat_minor": 5
}
